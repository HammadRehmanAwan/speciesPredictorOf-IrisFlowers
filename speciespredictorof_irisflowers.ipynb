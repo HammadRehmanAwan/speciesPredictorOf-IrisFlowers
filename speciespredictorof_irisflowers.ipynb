{
  "cells": [
    {
      "cell_type": "markdown",
      "metadata": {},
      "source": [
        "# Iris Species Predictor\n\n",
        "This notebook trains a Random Forest classifier on the Iris flower dataset stored in `iris-3.csv`. ",
        "It performs a simple train/test split, evaluates performance, and demonstrates how to generate predictions for new measurements."
      ]
    },
    {
      "cell_type": "code",
      "execution_count": null,
      "metadata": {},
      "outputs": [],
      "source": [
        "from pathlib import Path\n\n",
        "import pandas as pd\n",
        "from sklearn.model_selection import train_test_split\n",
        "from sklearn.preprocessing import LabelEncoder\n",
        "from sklearn.ensemble import RandomForestClassifier\n",
        "from sklearn.metrics import accuracy_score, classification_report\n"
      ]
    },
    {
      "cell_type": "code",
      "execution_count": null,
      "metadata": {},
      "outputs": [],
      "source": [
        "data_path = Path('iris-3.csv')\n",
        "if not data_path.exists():\n",
        "    raise FileNotFoundError(f'Could not find {data_path.resolve()}')\n\n",
        "data = pd.read_csv(data_path)\n",
        "print(f'Dataset shape: {data.shape}')\n",
        "data.head()\n"
      ]
    },
    {
      "cell_type": "code",
      "execution_count": null,
      "metadata": {},
      "outputs": [],
      "source": [
        "# Separate features (X) and target labels (y)\n",
        "feature_columns = [col for col in data.columns if col.lower() != 'species']\n",
        "X = data[feature_columns]\n",
        "y_raw = data['species'].astype(str).str.strip().str.lower()\n\n",
        "# Encode species labels into integers for the model\n",
        "y_encoder = LabelEncoder()\n",
        "y = y_encoder.fit_transform(y_raw)\n",
        "print('Encoded classes:', list(y_encoder.classes_))\n"
      ]
    },
    {
      "cell_type": "code",
      "execution_count": null,
      "metadata": {},
      "outputs": [],
      "source": [
        "# Split the dataset into training and testing subsets\n",
        "X_train, X_test, y_train, y_test = train_test_split(\n",
        "    X, y, test_size=0.2, random_state=42, stratify=y\n",
        ")\n\n",
        "print(f'Training samples: {X_train.shape[0]}')\n",
        "print(f'Testing samples: {X_test.shape[0]}')\n"
      ]
    },
    {
      "cell_type": "code",
      "execution_count": null,
      "metadata": {},
      "outputs": [],
      "source": [
        "# Train a Random Forest classifier\n",
        "model = RandomForestClassifier(n_estimators=300, random_state=42)\n",
        "model.fit(X_train, y_train)\n",
        "print('Model training complete.')\n"
      ]
    },
    {
      "cell_type": "code",
      "execution_count": null,
      "metadata": {},
      "outputs": [],
      "source": [
        "# Evaluate the model on the test set\n",
        "y_pred = model.predict(X_test)\n\n",
        "print('Accuracy:', f'{accuracy_score(y_test, y_pred):.3f}')\n",
        "print('\\nClassification report:')\n",
        "print(classification_report(y_test, y_pred, target_names=y_encoder.classes_))\n"
      ]
    },
    {
      "cell_type": "code",
      "execution_count": null,
      "metadata": {},
      "outputs": [],
      "source": [
        "# Example prediction for a new sample measurement\n",
        "sample_measurement = pd.DataFrame([\n",
        "    {\n",
        "        'sepal_length': 6.1,\n",
        "        'sepal_width': 2.8,\n",
        "        'petal_length': 4.7,\n",
        "        'petal_width': 1.3,\n",
        "    }\n",
        "])\n\n",
        "predicted_species = y_encoder.inverse_transform(model.predict(sample_measurement))[0]\n",
        "print('Predicted species for sample measurement:', predicted_species)\n"
      ]
    }
  ],
  "metadata": {
    "kernelspec": {
      "display_name": "Python 3",
      "language": "python",
      "name": "python3"
    },
    "language_info": {
      "codemirror_mode": {
        "name": "ipython",
        "version": 3
      },
      "file_extension": ".py",
      "mimetype": "text/x-python",
      "name": "python",
      "nbconvert_exporter": "python",
      "pygments_lexer": "ipython3",
      "version": "3.11"
    }
  },
  "nbformat": 4,
  "nbformat_minor": 5
}